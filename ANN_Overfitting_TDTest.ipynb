{
  "nbformat": 4,
  "nbformat_minor": 0,
  "metadata": {
    "colab": {
      "provenance": [],
      "authorship_tag": "ABX9TyNVB8yXVkqz1vUVwLl79ZQq",
      "include_colab_link": true
    },
    "kernelspec": {
      "name": "python3",
      "display_name": "Python 3"
    },
    "language_info": {
      "name": "python"
    }
  },
  "cells": [
    {
      "cell_type": "markdown",
      "metadata": {
        "id": "view-in-github",
        "colab_type": "text"
      },
      "source": [
        "<a href=\"https://colab.research.google.com/github/Sirfowahid/Artificial-Neural-Network/blob/master/ANN_Overfitting_TDTest.ipynb\" target=\"_parent\"><img src=\"https://colab.research.google.com/assets/colab-badge.svg\" alt=\"Open In Colab\"/></a>"
      ]
    },
    {
      "cell_type": "code",
      "execution_count": 1,
      "metadata": {
        "id": "THu-Mxc2FXAk"
      },
      "outputs": [],
      "source": [
        "# import libraries\n",
        "import numpy as np\n",
        "from sklearn.model_selection import train_test_split"
      ]
    },
    {
      "cell_type": "code",
      "source": [
        "### create fake dataset (same as in previous videos)\n",
        "\n",
        "fakedata = np.tile(np.array([1,2,3,4]),(10,1)) + np.tile(10*np.arange(1,11),(4,1)).T\n",
        "fakelabels = np.arange(10)>4\n",
        "print(fakedata), print(' ')\n",
        "print(fakelabels)"
      ],
      "metadata": {
        "colab": {
          "base_uri": "https://localhost:8080/"
        },
        "id": "NI4qaP7qGDRC",
        "outputId": "d84f41b8-6e04-4bce-b784-458f65933505"
      },
      "execution_count": 2,
      "outputs": [
        {
          "output_type": "stream",
          "name": "stdout",
          "text": [
            "[[ 11  12  13  14]\n",
            " [ 21  22  23  24]\n",
            " [ 31  32  33  34]\n",
            " [ 41  42  43  44]\n",
            " [ 51  52  53  54]\n",
            " [ 61  62  63  64]\n",
            " [ 71  72  73  74]\n",
            " [ 81  82  83  84]\n",
            " [ 91  92  93  94]\n",
            " [101 102 103 104]]\n",
            " \n",
            "[False False False False False  True  True  True  True  True]\n"
          ]
        }
      ]
    },
    {
      "cell_type": "code",
      "source": [
        "# specify sizes of the partitions\n",
        "# order is train,devset,test\n",
        "partitions = [.8,.1,.1]\n",
        "\n",
        "# split the data (note the third input, and the TMP in the variable name)\n",
        "train_data,testTMP_data, train_labels,testTMP_labels = \\\n",
        "                   train_test_split(fakedata, fakelabels, train_size=partitions[0])\n",
        "\n",
        "# now split the TMP data\n",
        "split = partitions[1] / np.sum(partitions[1:])\n",
        "devset_data,test_data, devset_labels,test_labels = train_test_split(testTMP_data, testTMP_labels, train_size=partitions[1])\n",
        "\n",
        "\n",
        "\n",
        "\n",
        "# print out the sizes\n",
        "print('Training data size: ' + str(train_data.shape))\n",
        "print('Devset data size: '   + str(devset_data.shape))\n",
        "print('Test data size: '     + str(test_data.shape))\n",
        "print(' ')\n",
        "\n",
        "# print out the train/test data\n",
        "print('Training data: ')\n",
        "print(train_data)\n",
        "print(' ')\n",
        "\n",
        "print('Devset data: ')\n",
        "print(devset_data)\n",
        "print(' ')\n",
        "\n",
        "print('Test data: ')\n",
        "print(test_data)"
      ],
      "metadata": {
        "colab": {
          "base_uri": "https://localhost:8080/",
          "height": 380
        },
        "id": "ElORzBJtGFku",
        "outputId": "852f007a-eefc-4483-9b6d-316b64cc4ca6"
      },
      "execution_count": 4,
      "outputs": [
        {
          "output_type": "error",
          "ename": "ValueError",
          "evalue": "ignored",
          "traceback": [
            "\u001b[0;31m---------------------------------------------------------------------------\u001b[0m",
            "\u001b[0;31mValueError\u001b[0m                                Traceback (most recent call last)",
            "\u001b[0;32m<ipython-input-4-b35addbb1304>\u001b[0m in \u001b[0;36m<module>\u001b[0;34m\u001b[0m\n\u001b[1;32m      9\u001b[0m \u001b[0;31m# now split the TMP data\u001b[0m\u001b[0;34m\u001b[0m\u001b[0;34m\u001b[0m\u001b[0;34m\u001b[0m\u001b[0m\n\u001b[1;32m     10\u001b[0m \u001b[0msplit\u001b[0m \u001b[0;34m=\u001b[0m \u001b[0mpartitions\u001b[0m\u001b[0;34m[\u001b[0m\u001b[0;36m1\u001b[0m\u001b[0;34m]\u001b[0m \u001b[0;34m/\u001b[0m \u001b[0mnp\u001b[0m\u001b[0;34m.\u001b[0m\u001b[0msum\u001b[0m\u001b[0;34m(\u001b[0m\u001b[0mpartitions\u001b[0m\u001b[0;34m[\u001b[0m\u001b[0;36m1\u001b[0m\u001b[0;34m:\u001b[0m\u001b[0;34m]\u001b[0m\u001b[0;34m)\u001b[0m\u001b[0;34m\u001b[0m\u001b[0;34m\u001b[0m\u001b[0m\n\u001b[0;32m---> 11\u001b[0;31m \u001b[0mdevset_data\u001b[0m\u001b[0;34m,\u001b[0m\u001b[0mtest_data\u001b[0m\u001b[0;34m,\u001b[0m \u001b[0mdevset_labels\u001b[0m\u001b[0;34m,\u001b[0m\u001b[0mtest_labels\u001b[0m \u001b[0;34m=\u001b[0m \u001b[0mtrain_test_split\u001b[0m\u001b[0;34m(\u001b[0m\u001b[0mtestTMP_data\u001b[0m\u001b[0;34m,\u001b[0m \u001b[0mtestTMP_labels\u001b[0m\u001b[0;34m,\u001b[0m \u001b[0mtrain_size\u001b[0m\u001b[0;34m=\u001b[0m\u001b[0mpartitions\u001b[0m\u001b[0;34m[\u001b[0m\u001b[0;36m1\u001b[0m\u001b[0;34m]\u001b[0m\u001b[0;34m)\u001b[0m\u001b[0;34m\u001b[0m\u001b[0;34m\u001b[0m\u001b[0m\n\u001b[0m\u001b[1;32m     12\u001b[0m \u001b[0;34m\u001b[0m\u001b[0m\n\u001b[1;32m     13\u001b[0m \u001b[0;34m\u001b[0m\u001b[0m\n",
            "\u001b[0;32m/usr/local/lib/python3.8/dist-packages/sklearn/model_selection/_split.py\u001b[0m in \u001b[0;36mtrain_test_split\u001b[0;34m(test_size, train_size, random_state, shuffle, stratify, *arrays)\u001b[0m\n\u001b[1;32m   2418\u001b[0m \u001b[0;34m\u001b[0m\u001b[0m\n\u001b[1;32m   2419\u001b[0m     \u001b[0mn_samples\u001b[0m \u001b[0;34m=\u001b[0m \u001b[0m_num_samples\u001b[0m\u001b[0;34m(\u001b[0m\u001b[0marrays\u001b[0m\u001b[0;34m[\u001b[0m\u001b[0;36m0\u001b[0m\u001b[0;34m]\u001b[0m\u001b[0;34m)\u001b[0m\u001b[0;34m\u001b[0m\u001b[0;34m\u001b[0m\u001b[0m\n\u001b[0;32m-> 2420\u001b[0;31m     n_train, n_test = _validate_shuffle_split(\n\u001b[0m\u001b[1;32m   2421\u001b[0m         \u001b[0mn_samples\u001b[0m\u001b[0;34m,\u001b[0m \u001b[0mtest_size\u001b[0m\u001b[0;34m,\u001b[0m \u001b[0mtrain_size\u001b[0m\u001b[0;34m,\u001b[0m \u001b[0mdefault_test_size\u001b[0m\u001b[0;34m=\u001b[0m\u001b[0;36m0.25\u001b[0m\u001b[0;34m\u001b[0m\u001b[0;34m\u001b[0m\u001b[0m\n\u001b[1;32m   2422\u001b[0m     )\n",
            "\u001b[0;32m/usr/local/lib/python3.8/dist-packages/sklearn/model_selection/_split.py\u001b[0m in \u001b[0;36m_validate_shuffle_split\u001b[0;34m(n_samples, test_size, train_size, default_test_size)\u001b[0m\n\u001b[1;32m   2096\u001b[0m \u001b[0;34m\u001b[0m\u001b[0m\n\u001b[1;32m   2097\u001b[0m     \u001b[0;32mif\u001b[0m \u001b[0mn_train\u001b[0m \u001b[0;34m==\u001b[0m \u001b[0;36m0\u001b[0m\u001b[0;34m:\u001b[0m\u001b[0;34m\u001b[0m\u001b[0;34m\u001b[0m\u001b[0m\n\u001b[0;32m-> 2098\u001b[0;31m         raise ValueError(\n\u001b[0m\u001b[1;32m   2099\u001b[0m             \u001b[0;34m\"With n_samples={}, test_size={} and train_size={}, the \"\u001b[0m\u001b[0;34m\u001b[0m\u001b[0;34m\u001b[0m\u001b[0m\n\u001b[1;32m   2100\u001b[0m             \u001b[0;34m\"resulting train set will be empty. Adjust any of the \"\u001b[0m\u001b[0;34m\u001b[0m\u001b[0;34m\u001b[0m\u001b[0m\n",
            "\u001b[0;31mValueError\u001b[0m: With n_samples=2, test_size=None and train_size=0.1, the resulting train set will be empty. Adjust any of the aforementioned parameters."
          ]
        }
      ]
    },
    {
      "cell_type": "code",
      "source": [
        "# partition sizes in proportion\n",
        "partitions = np.array([.8,.1,.1])\n",
        "print('Partition proportions:')\n",
        "print(partitions)\n",
        "print(' ')\n",
        "\n",
        "# convert those into integers\n",
        "partitionBnd = np.cumsum(partitions*len(fakelabels)).astype(int)\n",
        "print('Partition boundaries:')\n",
        "print(partitionBnd)\n",
        "print(' ')\n",
        "\n",
        "\n",
        "# random indices\n",
        "randindices = np.random.permutation(range(len(fakelabels)))\n",
        "print('Randomized data indices:')\n",
        "print(randindices)\n",
        "print(' ')"
      ],
      "metadata": {
        "colab": {
          "base_uri": "https://localhost:8080/"
        },
        "id": "rT6pJTOrGOIs",
        "outputId": "0024a1af-21b9-4e42-8103-f4d4dc6db6b0"
      },
      "execution_count": 5,
      "outputs": [
        {
          "output_type": "stream",
          "name": "stdout",
          "text": [
            "Partition proportions:\n",
            "[0.8 0.1 0.1]\n",
            " \n",
            "Partition boundaries:\n",
            "[ 8  9 10]\n",
            " \n",
            "Randomized data indices:\n",
            "[7 8 9 1 0 4 2 6 5 3]\n",
            " \n"
          ]
        }
      ]
    },
    {
      "cell_type": "code",
      "source": [
        "# select rows for the training data\n",
        "train_dataN   = fakedata[randindices[:partitionBnd[0]],:]\n",
        "train_labelsN = fakelabels[randindices[:partitionBnd[0]]]\n",
        "\n",
        "# select rows for the devset data\n",
        "devset_dataN   = fakedata[randindices[partitionBnd[0]:partitionBnd[1]],:]\n",
        "devset_labelsN = fakelabels[randindices[partitionBnd[0]:partitionBnd[1]]]\n",
        "\n",
        "# select rows for the test data\n",
        "test_dataN   = fakedata[randindices[partitionBnd[1]:],:]\n",
        "test_labelsN = fakelabels[randindices[partitionBnd[1]:]]"
      ],
      "metadata": {
        "id": "57SWO_1DHE9_"
      },
      "execution_count": 6,
      "outputs": []
    },
    {
      "cell_type": "code",
      "source": [
        "# print out the sizes\n",
        "print('Training data size: ' + str(train_dataN.shape))\n",
        "print('Devset size: '        + str(devset_dataN.shape))\n",
        "print('Test data size: '     + str(test_dataN.shape))\n",
        "print(' ')\n",
        "\n",
        "# print out the train/test data\n",
        "print('Training data: ')\n",
        "print(train_dataN)\n",
        "print(' ')\n",
        "\n",
        "print('Devset data: ')\n",
        "print(devset_dataN)\n",
        "print(' ')\n",
        "\n",
        "print('Test data: ')\n",
        "print(test_dataN)"
      ],
      "metadata": {
        "colab": {
          "base_uri": "https://localhost:8080/"
        },
        "id": "MMl87omzHOXv",
        "outputId": "f99e5024-3857-4263-d926-4f12cdd9f959"
      },
      "execution_count": 7,
      "outputs": [
        {
          "output_type": "stream",
          "name": "stdout",
          "text": [
            "Training data size: (8, 4)\n",
            "Devset size: (1, 4)\n",
            "Test data size: (1, 4)\n",
            " \n",
            "Training data: \n",
            "[[ 81  82  83  84]\n",
            " [ 91  92  93  94]\n",
            " [101 102 103 104]\n",
            " [ 21  22  23  24]\n",
            " [ 11  12  13  14]\n",
            " [ 51  52  53  54]\n",
            " [ 31  32  33  34]\n",
            " [ 71  72  73  74]]\n",
            " \n",
            "Devset data: \n",
            "[[61 62 63 64]]\n",
            " \n",
            "Test data: \n",
            "[[41 42 43 44]]\n"
          ]
        }
      ]
    },
    {
      "cell_type": "code",
      "source": [],
      "metadata": {
        "id": "b8_wAXc1HQXo"
      },
      "execution_count": null,
      "outputs": []
    }
  ]
}