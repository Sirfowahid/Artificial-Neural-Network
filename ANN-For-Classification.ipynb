{
 "cells": [
  {
   "cell_type": "code",
   "execution_count": 1,
   "id": "6ffa21ce",
   "metadata": {},
   "outputs": [],
   "source": [
    "import torch\n",
    "import torch.nn as nn\n",
    "import numpy as np\n",
    "\n",
    "import matplotlib.pyplot as plt\n",
    "%matplotlib inline"
   ]
  },
  {
   "cell_type": "code",
   "execution_count": 2,
   "id": "a99cbf2e",
   "metadata": {},
   "outputs": [],
   "source": [
    "nPerClust = 100\n",
    "blur = 1\n",
    "\n",
    "A = [ 1,1 ]\n",
    "B = [ 5,1 ]\n",
    "\n",
    "a = [A[0]+np.random.randn(nPerClust)*blur, A[1]+np.random.randn(nPerClust)*blur ]\n",
    "b = [B[0]+np.random.randn(nPerClust)*blur, B[1]+np.random.randn(nPerClust)*blur]"
   ]
  },
  {
   "cell_type": "code",
   "execution_count": 3,
   "id": "85e821de",
   "metadata": {},
   "outputs": [
    {
     "data": {
      "text/plain": [
       "([array([ 1.96543188, -0.3575128 , -0.18750219,  2.22702103,  0.89945025,\n",
       "          1.06012218, -0.13688069, -0.15630828,  0.04475284,  2.35023374,\n",
       "          2.29449837, -0.35646674,  0.88426407, -0.3273883 ,  0.5218841 ,\n",
       "          1.37436446,  1.48531431,  0.22507584, -0.68352913,  2.11696249,\n",
       "          1.9900838 ,  1.58599139,  1.94322095,  0.82333763,  2.57399876,\n",
       "          1.20954992,  1.86919333,  0.68835932,  1.15299779,  2.00653582,\n",
       "          1.83441744, -0.82121374,  1.66270272, -0.94379882,  1.26053052,\n",
       "         -0.03784198,  1.64822146,  2.40521489,  1.00147527, -0.4732176 ,\n",
       "          1.05284156,  0.8872897 ,  0.37219336,  1.48656307,  0.82728875,\n",
       "          1.48505499,  1.20717007,  0.32172378, -1.00133816,  0.40823281,\n",
       "          0.19836214,  1.49943827,  0.19884667,  1.78576124,  1.1009745 ,\n",
       "          0.85212224,  1.75009008,  1.73278381, -0.49571124,  1.03829294,\n",
       "          1.46753197, -0.06036165,  1.37331587,  0.81499196,  1.17626618,\n",
       "          0.292337  , -0.1477659 ,  0.17508499,  1.11380721,  2.8504678 ,\n",
       "          0.94343467,  2.99650131,  1.60700237,  0.64546809,  2.94796254,\n",
       "          1.17201445,  0.20965951,  2.08294027,  0.50386087,  1.06105646,\n",
       "          0.80710257,  0.85294244,  2.25848603,  1.22077951,  1.69765567,\n",
       "          0.41761929,  0.05353992,  0.66628288,  1.2792561 ,  1.82806878,\n",
       "          1.33789789,  0.81467446,  1.82827884,  1.6898606 ,  1.56225449,\n",
       "          1.2830089 ,  1.15209517,  0.20592515,  1.83520648,  1.74241843]),\n",
       "  array([ 3.59042653,  1.98891055,  0.1496112 ,  0.79300447,  0.73736143,\n",
       "          2.08987655,  1.93189587, -0.13916359, -0.98602339,  1.66125786,\n",
       "          2.2938887 ,  1.42840008,  0.38343042, -0.15747073,  0.67507676,\n",
       "          1.99402569,  0.40294058,  0.91633021,  1.79887524,  1.67297072,\n",
       "         -1.11179758,  1.33817906,  1.73942758,  1.66786771,  2.37172628,\n",
       "         -0.4096817 ,  3.0092694 ,  0.58522208, -0.29393426,  0.95786021,\n",
       "          1.36651597,  1.78219115,  0.44503752,  0.09510262,  0.14645556,\n",
       "          0.45180516, -0.34613103, -0.30106152,  0.66619389,  0.78396734,\n",
       "          0.6563677 ,  1.82532258,  2.07614558,  2.17144118,  1.16092329,\n",
       "         -0.03164124,  0.71309336,  1.26475313,  1.0420409 , -0.67287206,\n",
       "          1.56008012,  1.66504379, -0.14667782,  2.26484194,  1.29672381,\n",
       "          0.74237661,  1.21877497,  0.27368737, -0.69350633,  0.60383033,\n",
       "         -0.62167448,  1.10110209, -0.02970088,  0.46282407,  1.50832879,\n",
       "          0.516522  ,  0.04229816,  0.46101949,  0.15293242,  1.97819749,\n",
       "          1.6498102 ,  0.87632202,  0.77205718,  1.998254  ,  1.7101739 ,\n",
       "          1.73718776,  0.92299022, -2.02288794,  2.34667339,  0.48290212,\n",
       "          2.99305328,  0.34046162,  1.92974583,  1.96599162,  1.48499268,\n",
       "          2.37150511,  1.58566656,  0.34224007,  1.07226077,  1.04992158,\n",
       "          1.38929851, -0.04231511,  0.5741421 ,  2.00812982,  1.88370349,\n",
       "          3.17585795,  1.63413701,  0.36938713,  2.08740411,  2.13883098])],\n",
       " [array([5.20860721, 4.89128594, 4.3104732 , 5.41253051, 5.17897175,\n",
       "         4.95110308, 4.75650064, 5.33003444, 4.86248987, 4.33153115,\n",
       "         4.83750356, 4.53461353, 4.20855774, 4.55823794, 5.91234163,\n",
       "         6.42261787, 4.07917872, 4.96581249, 6.00729457, 6.81960234,\n",
       "         4.73029821, 6.55473486, 5.56804715, 4.53939644, 7.11660151,\n",
       "         5.82426879, 6.24923678, 4.77356304, 5.45863413, 4.95516924,\n",
       "         6.01347816, 5.99538539, 3.76002324, 4.73680052, 6.08011958,\n",
       "         6.82818244, 5.65992217, 6.41473248, 6.07736864, 5.79757438,\n",
       "         4.81982539, 5.88241637, 3.59770509, 4.34605868, 4.95391265,\n",
       "         5.92758859, 6.10768432, 4.72427056, 5.19070875, 3.79157538,\n",
       "         5.17697927, 4.78992396, 4.92514013, 6.68050344, 4.97367154,\n",
       "         5.34707837, 4.76533524, 5.84977726, 4.6184162 , 5.01464138,\n",
       "         4.88226094, 5.43716919, 5.20912751, 4.79478928, 4.67125117,\n",
       "         4.96342794, 5.56791387, 5.05927884, 4.2556575 , 4.01435388,\n",
       "         4.26192779, 6.01028373, 3.88486297, 3.74976474, 5.09995287,\n",
       "         4.33381086, 7.09209281, 6.53041102, 4.53165704, 4.22518273,\n",
       "         4.96873139, 4.43379633, 4.45754632, 5.99835671, 5.44768754,\n",
       "         5.58745393, 4.03182522, 4.60873939, 7.05859055, 5.13432503,\n",
       "         3.90193768, 4.29944548, 3.65078567, 4.20343995, 5.4019564 ,\n",
       "         3.5262518 , 4.30878611, 5.69466155, 5.58434516, 3.37462509]),\n",
       "  array([ 0.48052911,  0.61493663,  0.27734582,  0.34761278,  2.59595289,\n",
       "          1.34986842,  0.75004811, -1.63816133,  0.72927039,  1.07363058,\n",
       "         -0.51109359, -0.19990578,  0.28659028,  0.75575788,  1.31599586,\n",
       "         -0.15027447,  1.87280824,  0.71338723,  0.62617209,  1.12306852,\n",
       "          2.09198155,  0.93277863,  0.83022929,  0.98915129,  1.66839592,\n",
       "          0.88805483,  1.91613519,  0.95425519,  0.92852   ,  0.52352936,\n",
       "          0.49258393,  1.46106144,  0.9719752 ,  2.224115  ,  0.13042525,\n",
       "          0.79769909,  1.53100129,  0.03490891,  0.54852597,  1.08414833,\n",
       "          1.40625644,  0.68947298,  2.6939141 , -0.16601965,  0.2396459 ,\n",
       "          1.08662749,  0.83826733, -0.17000397,  1.28043325,  0.63569965,\n",
       "          2.36027985,  0.36182644, -0.86570944,  1.29555956,  1.6961796 ,\n",
       "          2.14055676,  0.33740378,  0.34521867,  0.34179545,  1.5339375 ,\n",
       "          0.24397948,  0.87092056,  1.35855008, -0.43272126,  2.62406607,\n",
       "          1.4144557 ,  2.16789667, -0.82876515,  3.03741783,  1.04809099,\n",
       "          0.46076016, -0.47612328,  0.40421148,  2.07728167,  1.07211242,\n",
       "          1.73878611, -0.41154144, -0.19798327, -1.04949282,  0.17607679,\n",
       "          2.09415685, -0.43508358, -0.04694187,  0.75166135,  2.11663452,\n",
       "          0.95510959,  1.17338533,  0.67477684,  0.78415876,  1.25989474,\n",
       "          0.36251174, -0.72193989, -0.22960668,  0.23592874,  0.20817006,\n",
       "          1.7334649 ,  2.6106634 ,  1.05034623, -1.52167519,  1.27804332])])"
      ]
     },
     "execution_count": 3,
     "metadata": {},
     "output_type": "execute_result"
    }
   ],
   "source": [
    "a ,b"
   ]
  },
  {
   "cell_type": "code",
   "execution_count": 19,
   "id": "299aace9",
   "metadata": {},
   "outputs": [],
   "source": [
    "labels_np = np.vstack((np.zeros((nPerClust,1)),np.ones((nPerClust,1))))\n",
    "\n",
    "data_np = np.hstack((a,b)).T\n",
    "\n"
   ]
  },
  {
   "cell_type": "code",
   "execution_count": 6,
   "id": "4ad31549",
   "metadata": {},
   "outputs": [],
   "source": [
    "data = torch.tensor(data_np).float()\n",
    "labels = torch.tensor(labels_np).float()"
   ]
  },
  {
   "cell_type": "code",
   "execution_count": 7,
   "id": "a74dda12",
   "metadata": {},
   "outputs": [
    {
     "data": {
      "image/png": "[encoded data removed]",
      "text/plain": [
       "<Figure size 360x360 with 1 Axes>"
      ]
     },
     "metadata": {
      "needs_background": "light"
     },
     "output_type": "display_data"
    }
   ],
   "source": [
    "fig = plt.figure(figsize=(5,5))\n",
    "plt.plot(data[np.where(labels==0)[0],0],data[np.where(labels==0)[0],1],'bs')\n",
    "plt.plot(data[np.where(labels==1)[0],0],data[np.where(labels==1)[0],1],'ko')\n",
    "plt.title('Data Plot')\n",
    "plt.xlabel('Dimention 1')\n",
    "plt.ylabel('Dimention 2')\n",
    "plt.show();"
   ]
  },
  {
   "cell_type": "code",
   "execution_count": 9,
   "id": "48ec4c08",
   "metadata": {},
   "outputs": [
    {
     "data": {
      "text/plain": [
       "Sequential(\n",
       "  (0): Linear(in_features=2, out_features=1, bias=True)\n",
       "  (1): ReLU()\n",
       "  (2): Linear(in_features=1, out_features=1, bias=True)\n",
       "  (3): Sigmoid()\n",
       ")"
      ]
     },
     "execution_count": 9,
     "metadata": {},
     "output_type": "execute_result"
    }
   ],
   "source": [
    "ANNclassify = nn.Sequential(nn.Linear(2,1),nn.ReLU(),nn.Linear(1,1),nn.Sigmoid())\n",
    "ANNclassify"
   ]
  },
  {
   "cell_type": "code",
   "execution_count": 11,
   "id": "75d0816f",
   "metadata": {},
   "outputs": [],
   "source": [
    "learningrate=0.01\n",
    "\n",
    "lossfun = nn.BCELoss()\n",
    "optimizer=torch.optim.SGD(ANNclassify.parameters(),learningrate)"
   ]
  },
  {
   "cell_type": "code",
   "execution_count": 13,
   "id": "e9ab53c8",
   "metadata": {},
   "outputs": [],
   "source": [
    "numepochs = 1000\n",
    "\n",
    "losses = torch.zeros(numepochs)\n",
    "\n",
    "for epochi in range(numepochs):\n",
    "    \n",
    "    yHat = ANNclassify(data)\n",
    "    \n",
    "    loss=lossfun(yHat,labels)\n",
    "    losses[epochi]=loss\n",
    "    \n",
    "    optimizer.zero_grad()\n",
    "    loss.backward()\n",
    "    optimizer.step()"
   ]
  },
  {
   "cell_type": "code",
   "execution_count": 14,
   "id": "ddd11973",
   "metadata": {},
   "outputs": [
    {
     "data": {
      "image/png": "[encoded data removed]",
      "text/plain": [
       "<Figure size 432x288 with 1 Axes>"
      ]
     },
     "metadata": {
      "needs_background": "light"
     },
     "output_type": "display_data"
    }
   ],
   "source": [
    "plt.plot(losses.detach(),'o',markerfacecolor='w')\n",
    "plt.xlabel('Number of Epochs')\n",
    "plt.ylabel('Loss')\n",
    "plt.show();"
   ]
  },
  {
   "cell_type": "code",
   "execution_count": 15,
   "id": "49ecc611",
   "metadata": {},
   "outputs": [
    {
     "name": "stdout",
     "output_type": "stream",
     "text": [
      "Final Accuracy: 97.5%\n"
     ]
    }
   ],
   "source": [
    "predictions=ANNclassify(data)\n",
    "\n",
    "predlabels = predictions>0.5\n",
    "\n",
    "missclassified = np.where(predlabels != labels)[0]\n",
    "\n",
    "totalacc = 100-100*len(missclassified)/(2*nPerClust)\n",
    "\n",
    "print('Final Accuracy: %g%%' %totalacc)"
   ]
  },
  {
   "cell_type": "code",
   "execution_count": 18,
   "id": "84e06269",
   "metadata": {},
   "outputs": [
    {
     "data": {
      "image/png": "[encoded data removed]",
      "text/plain": [
       "<Figure size 360x360 with 1 Axes>"
      ]
     },
     "metadata": {
      "needs_background": "light"
     },
     "output_type": "display_data"
    }
   ],
   "source": [
    "fig = plt.figure(figsize=(5,5))\n",
    "plt.plot(data[missclassified,0],data[missclassified,1],'rx',markersize=12)\n",
    "plt.plot(data[np.where(~predlabels)[0],0],data[np.where(~predlabels)[0],1],'bs')\n",
    "plt.plot(data[np.where(predlabels)[0],0],data[np.where(predlabels)[0],1],'ko')\n",
    "\n",
    "plt.legend(['MissClassified','blue','black'],bbox_to_anchor=(1,1))\n",
    "plt.title(f'{totalacc}% currect')\n",
    "plt.show()"
   ]
  },
  {
   "cell_type": "code",
   "execution_count": null,
   "id": "2bf23913",
   "metadata": {},
   "outputs": [],
   "source": []
  }
 ],
 "metadata": {
  "kernelspec": {
   "display_name": "Python 3 (ipykernel)",
   "language": "python",
   "name": "python3"
  },
  "language_info": {
   "codemirror_mode": {
    "name": "ipython",
    "version": 3
   },
   "file_extension": ".py",
   "mimetype": "text/x-python",
   "name": "python",
   "nbconvert_exporter": "python",
   "pygments_lexer": "ipython3",
   "version": "3.9.12"
  }
 },
 "nbformat": 4,
 "nbformat_minor": 5
}
