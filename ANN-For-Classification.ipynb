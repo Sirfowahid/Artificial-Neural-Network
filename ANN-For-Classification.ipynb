{
 "cells": [
  {
   "cell_type": "code",
   "execution_count": 1,
   "id": "6ffa21ce",
   "metadata": {},
   "outputs": [],
   "source": [
    "import torch\n",
    "import torch.nn as nn\n",
    "import numpy as np\n",
    "\n",
    "import matplotlib.pyplot as plt\n",
    "%matplotlib inline"
   ]
  },
  {
   "cell_type": "code",
   "execution_count": 2,
   "id": "a99cbf2e",
   "metadata": {},
   "outputs": [],
   "source": [
    "nPerClust = 100\n",
    "blur = 1\n",
    "\n",
    "A = [ 1,1 ]\n",
    "B = [ 5,1 ]\n",
    "\n",
    "a = [A[0]+np.random.randn(nPerClust)*blur, A[1]+np.random.randn(nPerClust)*blur ]\n",
    "b = [B[0]+np.random.randn(nPerClust)*blur, B[1]+np.random.randn(nPerClust)*blur]"
   ]
  },
  {
   "cell_type": "code",
   "execution_count": 3,
   "id": "85e821de",
   "metadata": {},
   "outputs": [
    {
     "data": {
      "text/plain": [
       "([array([ 0.19997956,  1.03585266,  3.14493043,  0.84167126,  3.16282626,\n",
       "          1.87626753,  1.4747983 , -0.09007618,  1.84187154,  1.88315326,\n",
       "          2.63175534,  0.70365465,  3.2750728 ,  2.39468304,  0.82777141,\n",
       "          1.4634654 ,  0.4727108 ,  2.3815148 ,  2.71217514,  1.09100066,\n",
       "          1.48106208,  1.28020938,  1.47355736,  1.62495294,  1.096869  ,\n",
       "          1.06240158,  0.71758034,  0.28896161,  1.69049076,  2.71127136,\n",
       "          4.03538269,  2.070392  ,  0.12694832,  0.1766332 , -0.33819557,\n",
       "          0.31861755,  1.44902634,  0.61374644,  1.22390647,  3.05349086,\n",
       "          0.85992451,  0.4087025 , -1.5643497 ,  1.22209489,  0.41023463,\n",
       "          0.34632374,  0.32681309,  1.48684719, -0.29678829,  1.08877186,\n",
       "         -0.449089  ,  0.77340612,  3.55709668,  2.96549134,  1.26562732,\n",
       "          0.13861705,  0.84985918,  2.76889044,  1.49817432,  2.59514765,\n",
       "          0.48827839,  2.06111054, -0.69815033,  1.07602188,  0.81686427,\n",
       "          1.78548825,  1.72987574,  1.06862114,  0.22521398,  0.7718659 ,\n",
       "          1.92042338,  1.7190432 ,  1.98278837, -0.17623769,  1.53644401,\n",
       "          0.37522029,  0.46343107,  0.41629872, -0.07012622,  0.30453926,\n",
       "          0.92877607,  1.06082571,  0.93816504,  1.0992163 ,  1.11894156,\n",
       "          0.05396704,  2.49532811,  0.36601097,  3.29717048,  0.63075739,\n",
       "          0.92307061,  1.89594849,  0.03985657, -0.29129416,  1.36813331,\n",
       "          1.32819331, -0.4566917 ,  0.82384694,  1.79689641,  0.06417053]),\n",
       "  array([-0.34774068,  1.06230871,  3.01290141,  0.33889041,  1.5298748 ,\n",
       "          1.02413138,  2.55428401,  0.20365735,  0.37548457,  0.67957727,\n",
       "          0.56160904, -1.14652653,  2.17062269,  0.24183088,  0.35268689,\n",
       "         -1.35777992,  0.21861629,  1.80745679,  2.78523197,  1.02310965,\n",
       "         -0.12100662,  1.02517992,  3.17596411,  1.7026977 ,  0.31525497,\n",
       "         -0.27981732,  1.26662734,  0.32707109,  0.75478476,  2.60179548,\n",
       "          1.50553233,  1.43929855,  2.18420671,  0.30047059,  1.71572583,\n",
       "         -0.46517626,  1.91918697,  1.60312142, -0.47305017,  1.37964027,\n",
       "         -0.21670374,  1.63968524, -0.1697788 ,  0.336328  ,  0.63892816,\n",
       "          1.4670956 ,  0.75936611,  1.90083493,  2.29192878,  2.63672169,\n",
       "          1.3184178 ,  0.70139479,  0.44518153,  1.40634941, -1.77841646,\n",
       "          1.99905864,  0.92074006,  1.51090943,  0.25615512,  2.16572371,\n",
       "          1.2490428 ,  1.98011642,  0.6515925 ,  2.21897681, -0.76683309,\n",
       "          2.56527503, -0.04733763,  0.57488579,  0.74062133, -0.65221957,\n",
       "          1.92869993,  2.29936681, -0.45586686,  1.28605228,  2.80383491,\n",
       "          2.68971183, -0.46207339,  0.83405544,  1.77270176,  2.84529875,\n",
       "          1.84897309,  0.27751183, -0.55500444,  0.94092031,  2.72111764,\n",
       "          0.39696787,  0.51370714,  1.70429324,  0.28910476,  2.87370341,\n",
       "          0.90930973,  0.80396185,  2.50498078,  1.02864444,  1.53533619,\n",
       "          0.37102471,  1.0904973 ,  0.6081313 ,  1.18626329, -0.03830893])],\n",
       " [array([3.63706716, 5.38525775, 5.01797654, 5.69809344, 3.78371574,\n",
       "         5.97122127, 3.80897494, 5.63967012, 4.44460915, 5.2356619 ,\n",
       "         4.13489353, 4.8014761 , 4.6789416 , 3.14076925, 4.25993408,\n",
       "         4.46032832, 6.0861245 , 4.60370576, 3.80065633, 6.31401567,\n",
       "         4.79081619, 6.32133231, 5.10296574, 6.0533344 , 4.86775902,\n",
       "         5.15233765, 4.23064406, 7.2275729 , 6.28307749, 5.58677919,\n",
       "         4.59498041, 4.69211843, 4.33879701, 6.22065735, 4.6248242 ,\n",
       "         5.8904285 , 4.74887533, 6.91029086, 5.86893692, 3.96209303,\n",
       "         5.91760847, 4.58268116, 5.39689247, 4.54189599, 4.18703572,\n",
       "         4.25483444, 5.9533674 , 5.51112076, 5.90049693, 6.08311857,\n",
       "         3.5177017 , 6.03974836, 5.59363593, 3.24242033, 5.37800488,\n",
       "         5.06594205, 5.44117452, 6.30352099, 3.5628566 , 5.38888743,\n",
       "         5.99206906, 5.42334408, 6.30912146, 6.3998216 , 6.87281655,\n",
       "         4.6776576 , 5.7654901 , 5.99287294, 5.31852424, 4.6080655 ,\n",
       "         3.15935624, 5.79570149, 4.35626611, 3.78157692, 2.29583864,\n",
       "         5.53420882, 6.50706178, 3.69101414, 5.92603894, 5.09683011,\n",
       "         4.0001989 , 5.90516086, 6.25651537, 5.38279542, 6.14381998,\n",
       "         3.52085488, 6.73216106, 4.94638092, 6.57005647, 5.64857454,\n",
       "         5.30263707, 6.05110764, 2.27598501, 4.71100174, 5.96145108,\n",
       "         5.43135461, 5.25071815, 4.55348364, 5.74383857, 4.56416182]),\n",
       "  array([ 1.30347392,  0.73374686,  1.93965834,  1.94326479,  1.2358465 ,\n",
       "          1.83943935,  0.53825262,  0.13513125,  0.09311747,  0.73622403,\n",
       "          1.25009306,  1.92000652,  1.41036628,  1.63163191,  1.79289721,\n",
       "          1.47056995,  0.58425866,  0.40381996, -0.37666052,  0.99524224,\n",
       "          0.81887088,  1.56141366,  0.15388551,  2.17691224,  1.01279378,\n",
       "          0.68295154, -0.50200666,  2.02658579,  0.04211001,  1.84509115,\n",
       "          2.09309166,  1.11597351,  1.38118676,  1.61442248,  2.24352625,\n",
       "          1.95156841,  1.35727006,  1.68050728,  2.7530738 ,  0.15277653,\n",
       "          1.10415092,  1.35312263, -0.39210301,  1.16277607,  1.45384972,\n",
       "          0.22045639, -0.65329103,  2.40523684,  2.07148517, -0.87630259,\n",
       "          1.27074317,  2.75438639,  0.93600596,  1.31801522,  1.09206613,\n",
       "          1.58621917,  1.12802479,  1.89955025,  2.38589865,  1.19628309,\n",
       "          3.09330871,  1.20709614, -0.58943787,  0.04131027,  1.68155394,\n",
       "          0.64124327,  2.14770158,  0.8513437 ,  0.26360754, -0.16451074,\n",
       "          0.68684633,  1.0669264 ,  2.28684819,  0.53802098, -0.03396455,\n",
       "          1.29801202,  0.44864731,  2.56028065,  1.57662088,  1.76892285,\n",
       "          1.19018335,  2.9877973 ,  2.08081776, -0.51845722,  1.93012464,\n",
       "         -0.62281447,  0.34607982,  0.26735311, -1.42784015,  0.6360373 ,\n",
       "          2.13423232,  2.59191549,  0.78059316,  0.58910873,  0.83294392,\n",
       "          1.80866868,  2.06523874, -0.66912817,  1.27753717,  0.46062318])])"
      ]
     },
     "execution_count": 3,
     "metadata": {},
     "output_type": "execute_result"
    }
   ],
   "source": [
    "a ,b"
   ]
  },
  {
   "cell_type": "code",
   "execution_count": 4,
   "id": "299aace9",
   "metadata": {},
   "outputs": [],
   "source": [
    "labels_np = np.vstack((np.zeros((nPerClust,1)),np.ones((nPerClust,1))))\n",
    "\n",
    "data_np = np.hstack((a,b)).T\n",
    "\n"
   ]
  },
  {
   "cell_type": "code",
   "execution_count": 5,
   "id": "4ad31549",
   "metadata": {},
   "outputs": [],
   "source": [
    "data = torch.tensor(data_np).float()\n",
    "labels = torch.tensor(labels_np).float()"
   ]
  },
  {
   "cell_type": "code",
   "execution_count": 6,
   "id": "a74dda12",
   "metadata": {},
   "outputs": [
    {
     "data": {
      "image/png": "[encoded data removed]",
      "text/plain": [
       "<Figure size 360x360 with 1 Axes>"
      ]
     },
     "metadata": {
      "needs_background": "light"
     },
     "output_type": "display_data"
    }
   ],
   "source": [
    "fig = plt.figure(figsize=(5,5))\n",
    "plt.plot(data[np.where(labels==0)[0],0],data[np.where(labels==0)[0],1],'bs')\n",
    "plt.plot(data[np.where(labels==1)[0],0],data[np.where(labels==1)[0],1],'ko')\n",
    "plt.title('Data Plot')\n",
    "plt.xlabel('Dimention 1')\n",
    "plt.ylabel('Dimention 2')\n",
    "plt.show();"
   ]
  },
  {
   "cell_type": "code",
   "execution_count": 7,
   "id": "48ec4c08",
   "metadata": {},
   "outputs": [
    {
     "data": {
      "text/plain": [
       "Sequential(\n",
       "  (0): Linear(in_features=2, out_features=1, bias=True)\n",
       "  (1): Linear(in_features=1, out_features=1, bias=True)\n",
       "  (2): Sigmoid()\n",
       ")"
      ]
     },
     "execution_count": 7,
     "metadata": {},
     "output_type": "execute_result"
    }
   ],
   "source": [
    "ANNclassify = nn.Sequential(nn.Linear(2,1),\n",
    "                            #nn.ReLU(),\n",
    "                            nn.Linear(1,1),\n",
    "                            nn.Sigmoid())\n",
    "ANNclassify"
   ]
  },
  {
   "cell_type": "code",
   "execution_count": 8,
   "id": "75d0816f",
   "metadata": {},
   "outputs": [],
   "source": [
    "learningrate=0.01\n",
    "\n",
    "lossfun = nn.BCELoss()\n",
    "optimizer=torch.optim.SGD(ANNclassify.parameters(),learningrate)"
   ]
  },
  {
   "cell_type": "code",
   "execution_count": 9,
   "id": "e9ab53c8",
   "metadata": {},
   "outputs": [],
   "source": [
    "numepochs = 1000\n",
    "\n",
    "losses = torch.zeros(numepochs)\n",
    "\n",
    "for epochi in range(numepochs):\n",
    "    \n",
    "    yHat = ANNclassify(data)\n",
    "    \n",
    "    loss=lossfun(yHat,labels)\n",
    "    losses[epochi]=loss\n",
    "    \n",
    "    optimizer.zero_grad()\n",
    "    loss.backward()\n",
    "    optimizer.step()"
   ]
  },
  {
   "cell_type": "code",
   "execution_count": 10,
   "id": "ddd11973",
   "metadata": {},
   "outputs": [
    {
     "data": {
      "image/png": "[encoded data removed]",
      "text/plain": [
       "<Figure size 432x288 with 1 Axes>"
      ]
     },
     "metadata": {
      "needs_background": "light"
     },
     "output_type": "display_data"
    }
   ],
   "source": [
    "plt.plot(losses.detach(),'o',markerfacecolor='w')\n",
    "plt.xlabel('Number of Epochs')\n",
    "plt.ylabel('Loss')\n",
    "plt.show();"
   ]
  },
  {
   "cell_type": "code",
   "execution_count": 11,
   "id": "49ecc611",
   "metadata": {},
   "outputs": [
    {
     "name": "stdout",
     "output_type": "stream",
     "text": [
      "Final Accuracy: 92.5%\n"
     ]
    }
   ],
   "source": [
    "predictions=ANNclassify(data)\n",
    "\n",
    "predlabels = predictions>0.5\n",
    "\n",
    "missclassified = np.where(predlabels != labels)[0]\n",
    "\n",
    "totalacc = 100-100*len(missclassified)/(2*nPerClust)\n",
    "\n",
    "print('Final Accuracy: %g%%' %totalacc)"
   ]
  },
  {
   "cell_type": "code",
   "execution_count": 12,
   "id": "84e06269",
   "metadata": {},
   "outputs": [
    {
     "data": {
      "image/png": "[encoded data removed]",
      "text/plain": [
       "<Figure size 360x360 with 1 Axes>"
      ]
     },
     "metadata": {
      "needs_background": "light"
     },
     "output_type": "display_data"
    }
   ],
   "source": [
    "fig = plt.figure(figsize=(5,5))\n",
    "plt.plot(data[missclassified,0],data[missclassified,1],'rx',markersize=12)\n",
    "plt.plot(data[np.where(~predlabels)[0],0],data[np.where(~predlabels)[0],1],'bs')\n",
    "plt.plot(data[np.where(predlabels)[0],0],data[np.where(predlabels)[0],1],'ko')\n",
    "\n",
    "plt.legend(['MissClassified','blue','black'],bbox_to_anchor=(1,1))\n",
    "plt.title(f'{totalacc}% currect')\n",
    "plt.show()"
   ]
  },
  {
   "cell_type": "code",
   "execution_count": null,
   "id": "2bf23913",
   "metadata": {},
   "outputs": [],
   "source": []
  }
 ],
 "metadata": {
  "kernelspec": {
   "display_name": "Python 3 (ipykernel)",
   "language": "python",
   "name": "python3"
  },
  "language_info": {
   "codemirror_mode": {
    "name": "ipython",
    "version": 3
   },
   "file_extension": ".py",
   "mimetype": "text/x-python",
   "name": "python",
   "nbconvert_exporter": "python",
   "pygments_lexer": "ipython3",
   "version": "3.9.12"
  }
 },
 "nbformat": 4,
 "nbformat_minor": 5
}
