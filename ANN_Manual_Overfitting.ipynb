{
  "nbformat": 4,
  "nbformat_minor": 0,
  "metadata": {
    "colab": {
      "provenance": [],
      "authorship_tag": "ABX9TyMUIXC6JbqNy3K+JFcPUG6u",
      "include_colab_link": true
    },
    "kernelspec": {
      "name": "python3",
      "display_name": "Python 3"
    },
    "language_info": {
      "name": "python"
    }
  },
  "cells": [
    {
      "cell_type": "markdown",
      "metadata": {
        "id": "view-in-github",
        "colab_type": "text"
      },
      "source": [
        "<a href=\"https://colab.research.google.com/github/Sirfowahid/Artificial-Neural-Network/blob/master/ANN_Manual_Overfitting.ipynb\" target=\"_parent\"><img src=\"https://colab.research.google.com/assets/colab-badge.svg\" alt=\"Open In Colab\"/></a>"
      ]
    },
    {
      "cell_type": "code",
      "execution_count": 1,
      "metadata": {
        "id": "oz7BtypfgMJH"
      },
      "outputs": [],
      "source": [
        "# import libraries\n",
        "import torch\n",
        "import torch.nn as nn\n",
        "import numpy as np"
      ]
    },
    {
      "cell_type": "code",
      "source": [
        "# import dataset (comes with seaborn)\n",
        "import seaborn as sns\n",
        "iris = sns.load_dataset('iris')\n",
        "\n",
        "\n",
        "# convert from pandas dataframe to tensor\n",
        "data = torch.tensor( iris[iris.columns[0:4]].values ).float()\n",
        "\n",
        "# transform species to number\n",
        "labels = torch.zeros(len(data), dtype=torch.long)\n",
        "# labels[iris.species=='setosa'] = 0 # don't need!\n",
        "labels[iris.species=='versicolor'] = 1\n",
        "labels[iris.species=='virginica'] = 2"
      ],
      "metadata": {
        "id": "qTQz3-R2gY3P"
      },
      "execution_count": 2,
      "outputs": []
    },
    {
      "cell_type": "code",
      "source": [
        "#  (no devset here)\n",
        "\n",
        "# how many training examples\n",
        "propTraining = .8 # in proportion, not percent\n",
        "nTraining = int(len(labels)*propTraining)\n",
        "\n",
        "# initialize a boolean vector to select data and labels\n",
        "traintestBool = np.zeros(len(labels),dtype=bool)\n",
        "\n",
        "# is this the correct way to select samples?\n",
        "# traintestBool[range(nTraining)] = True\n",
        "\n",
        "# this is better, but why?\n",
        "items2use4train = np.random.choice(range(len(labels)),nTraining,replace=False)\n",
        "traintestBool[items2use4train] = True\n",
        "\n",
        "traintestBool"
      ],
      "metadata": {
        "colab": {
          "base_uri": "https://localhost:8080/"
        },
        "id": "vMQ9QTBvgaya",
        "outputId": "c5dfd886-ec65-48b8-b59a-675879c33ddb"
      },
      "execution_count": 3,
      "outputs": [
        {
          "output_type": "execute_result",
          "data": {
            "text/plain": [
              "array([False,  True,  True,  True,  True, False, False,  True, False,\n",
              "        True,  True, False,  True,  True,  True,  True,  True,  True,\n",
              "        True,  True,  True,  True,  True,  True,  True,  True,  True,\n",
              "        True, False,  True,  True, False, False,  True,  True,  True,\n",
              "        True, False,  True, False, False,  True,  True,  True,  True,\n",
              "        True,  True,  True,  True,  True,  True,  True,  True,  True,\n",
              "        True,  True,  True,  True,  True,  True,  True,  True, False,\n",
              "       False,  True, False, False,  True,  True,  True,  True,  True,\n",
              "        True,  True, False, False,  True,  True,  True,  True,  True,\n",
              "       False,  True,  True,  True,  True,  True,  True,  True,  True,\n",
              "       False,  True,  True,  True,  True,  True,  True,  True,  True,\n",
              "        True,  True,  True,  True, False,  True,  True, False,  True,\n",
              "        True,  True,  True,  True,  True,  True,  True,  True,  True,\n",
              "        True,  True,  True,  True,  True,  True,  True,  True, False,\n",
              "       False,  True,  True,  True,  True, False,  True,  True, False,\n",
              "        True,  True,  True,  True,  True, False, False,  True,  True,\n",
              "        True,  True, False, False,  True, False])"
            ]
          },
          "metadata": {},
          "execution_count": 3
        }
      ]
    },
    {
      "cell_type": "code",
      "source": [
        "# test whether it's balanced\n",
        "print('Average of full data:')\n",
        "print( torch.mean(labels.float()) ) # =1 by definition\n",
        "print(' ')\n",
        "\n",
        "print('Average of training data:')\n",
        "print( torch.mean(labels[traintestBool].float()) ) # should be 1...\n",
        "print(' ')\n",
        "\n",
        "print('Average of test data:')\n",
        "print( torch.mean(labels[~traintestBool].float()) ) # should also be 1..."
      ],
      "metadata": {
        "colab": {
          "base_uri": "https://localhost:8080/"
        },
        "id": "1Xcgb1w8gkyP",
        "outputId": "bf112e00-97a3-4665-bce2-d9e17124ef88"
      },
      "execution_count": 4,
      "outputs": [
        {
          "output_type": "stream",
          "name": "stdout",
          "text": [
            "Average of full data:\n",
            "tensor(1.)\n",
            " \n",
            "Average of training data:\n",
            "tensor(1.)\n",
            " \n",
            "Average of test data:\n",
            "tensor(1.)\n"
          ]
        }
      ]
    },
    {
      "cell_type": "code",
      "source": [
        "# create the ANN model\n",
        "\n",
        "# model architecture\n",
        "ANNiris = nn.Sequential(\n",
        "    nn.Linear(4,64),   # input layer\n",
        "    nn.ReLU(),         # activation unit\n",
        "    nn.Linear(64,64),  # hidden layer\n",
        "    nn.ReLU(),         # activation unit\n",
        "    nn.Linear(64,3),   # output units\n",
        "      )\n",
        "\n",
        "# loss function\n",
        "lossfun = nn.CrossEntropyLoss()\n",
        "\n",
        "# optimizer\n",
        "optimizer = torch.optim.SGD(ANNiris.parameters(),lr=.01)"
      ],
      "metadata": {
        "id": "GWtdCDddgovl"
      },
      "execution_count": 5,
      "outputs": []
    },
    {
      "cell_type": "code",
      "source": [
        "# entire dataset\n",
        "print( data.shape )\n",
        "\n",
        "# training set\n",
        "print( data[traintestBool,:].shape )\n",
        "\n",
        "# test set\n",
        "print( data[~traintestBool,:].shape )"
      ],
      "metadata": {
        "colab": {
          "base_uri": "https://localhost:8080/"
        },
        "id": "eKRizcjMgxDx",
        "outputId": "00f439ca-1c5e-448c-9e3e-1fc97e325f67"
      },
      "execution_count": 6,
      "outputs": [
        {
          "output_type": "stream",
          "name": "stdout",
          "text": [
            "torch.Size([150, 4])\n",
            "torch.Size([120, 4])\n",
            "torch.Size([30, 4])\n"
          ]
        }
      ]
    },
    {
      "cell_type": "code",
      "source": [
        "# train the model\n",
        "\n",
        "numepochs = 1000\n",
        "\n",
        "# initialize losses\n",
        "losses = torch.zeros(numepochs)\n",
        "ongoingAcc = []\n",
        "\n",
        "# loop over epochs\n",
        "for epochi in range(numepochs):\n",
        "\n",
        "  # forward pass\n",
        "  yHat = ANNiris(data[traintestBool,:])\n",
        "\n",
        "  # compute accuracy (note: denser than previous code!)\n",
        "  ongoingAcc.append( 100*torch.mean(\n",
        "              (torch.argmax(yHat,axis=1) == labels[traintestBool]).float()) )\n",
        "\n",
        "  # compute loss\n",
        "  loss = lossfun(yHat,labels[traintestBool])\n",
        "  losses[epochi] = loss\n",
        "\n",
        "  # backprop\n",
        "  optimizer.zero_grad()\n",
        "  loss.backward()\n",
        "  optimizer.step()"
      ],
      "metadata": {
        "id": "7xt9dVsKgzW0"
      },
      "execution_count": 7,
      "outputs": []
    },
    {
      "cell_type": "code",
      "source": [
        "# compute train and test accuracies\n",
        "\n",
        "# final forward pass USING TRAINING DATA\n",
        "predictions = ANNiris(data[traintestBool,:])\n",
        "trainacc = 100*torch.mean((torch.argmax(predictions,axis=1) == labels[traintestBool]).float())\n",
        "\n",
        "\n",
        "# final forward pass USING TEST DATA!\n",
        "predictions = ANNiris(data[~traintestBool,:])\n",
        "testacc = 100*torch.mean((torch.argmax(predictions,axis=1) == labels[~traintestBool]).float())"
      ],
      "metadata": {
        "id": "VXKf0WtnhGAV"
      },
      "execution_count": 8,
      "outputs": []
    },
    {
      "cell_type": "code",
      "source": [
        "# report accuracies\n",
        "\n",
        "print('Final TRAIN accuracy: %g%%' %trainacc)\n",
        "print('Final TEST accuracy:  %g%%' %testacc)"
      ],
      "metadata": {
        "colab": {
          "base_uri": "https://localhost:8080/"
        },
        "id": "MPonfOAshIXO",
        "outputId": "bd0240e2-86ae-4e08-a198-5cb7c8bf4e9b"
      },
      "execution_count": 9,
      "outputs": [
        {
          "output_type": "stream",
          "name": "stdout",
          "text": [
            "Final TRAIN accuracy: 97.5%\n",
            "Final TEST accuracy:  100%\n"
          ]
        }
      ]
    },
    {
      "cell_type": "code",
      "source": [],
      "metadata": {
        "id": "aNGuCVhQhLWB"
      },
      "execution_count": null,
      "outputs": []
    }
  ]
}