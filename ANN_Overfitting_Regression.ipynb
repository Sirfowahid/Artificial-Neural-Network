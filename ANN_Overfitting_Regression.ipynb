{
  "nbformat": 4,
  "nbformat_minor": 0,
  "metadata": {
    "colab": {
      "provenance": [],
      "authorship_tag": "ABX9TyNe/y2BPO3q7RWSb4dbx4xf",
      "include_colab_link": true
    },
    "kernelspec": {
      "name": "python3",
      "display_name": "Python 3"
    },
    "language_info": {
      "name": "python"
    }
  },
  "cells": [
    {
      "cell_type": "markdown",
      "metadata": {
        "id": "view-in-github",
        "colab_type": "text"
      },
      "source": [
        "<a href=\"https://colab.research.google.com/github/Sirfowahid/Artificial-Neural-Network/blob/master/ANN_Overfitting_Regression.ipynb\" target=\"_parent\"><img src=\"https://colab.research.google.com/assets/colab-badge.svg\" alt=\"Open In Colab\"/></a>"
      ]
    },
    {
      "cell_type": "code",
      "execution_count": 1,
      "metadata": {
        "id": "kYYJ1oUKofRH"
      },
      "outputs": [],
      "source": [
        "# import libraries\n",
        "import torch\n",
        "import torch.nn as nn\n",
        "import numpy as np\n",
        "import matplotlib.pyplot as plt"
      ]
    },
    {
      "cell_type": "code",
      "source": [
        "N = 100\n",
        "x = torch.randn(N,1)\n",
        "y = x + torch.randn(N,1)\n",
        "\n",
        "# and plot\n",
        "plt.plot(x,y,'s')\n",
        "plt.show()"
      ],
      "metadata": {
        "colab": {
          "base_uri": "https://localhost:8080/",
          "height": 265
        },
        "id": "x0XaisB5opMS",
        "outputId": "fa5d2c06-3cca-4f48-9291-a35f5dff4f9a"
      },
      "execution_count": 2,
      "outputs": [
        {
          "output_type": "display_data",
          "data": {
            "text/plain": [
              "<Figure size 432x288 with 1 Axes>"
            ],
            "image/png": "[encoded data removed]"
          },
          "metadata": {
            "needs_background": "light"
          }
        }
      ]
    },
    {
      "cell_type": "code",
      "source": [
        "# build model\n",
        "ANNreg = nn.Sequential(\n",
        "    nn.Linear(1,1),  # input layer\n",
        "    nn.ReLU(),       # activation function\n",
        "    nn.Linear(1,1)   # output layer\n",
        "    )"
      ],
      "metadata": {
        "id": "ciiGinaboxwc"
      },
      "execution_count": 3,
      "outputs": []
    },
    {
      "cell_type": "code",
      "source": [
        "# model meta-parameters\n",
        "\n",
        "learningRate = .05\n",
        "\n",
        "# loss function\n",
        "lossfun = nn.MSELoss()\n",
        "\n",
        "# optimizer\n",
        "optimizer = torch.optim.SGD(ANNreg.parameters(),lr=learningRate)"
      ],
      "metadata": {
        "id": "meoFlFKZpZx0"
      },
      "execution_count": 4,
      "outputs": []
    },
    {
      "cell_type": "code",
      "source": [],
      "metadata": {
        "id": "csDhvQRwpcVB"
      },
      "execution_count": null,
      "outputs": []
    }
  ]
}