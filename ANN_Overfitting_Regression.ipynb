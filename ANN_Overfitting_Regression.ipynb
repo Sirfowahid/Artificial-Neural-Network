{
  "nbformat": 4,
  "nbformat_minor": 0,
  "metadata": {
    "colab": {
      "provenance": [],
      "authorship_tag": "ABX9TyPqVd9hJkxHHZTDTHRFpkQ+",
      "include_colab_link": true
    },
    "kernelspec": {
      "name": "python3",
      "display_name": "Python 3"
    },
    "language_info": {
      "name": "python"
    }
  },
  "cells": [
    {
      "cell_type": "markdown",
      "metadata": {
        "id": "view-in-github",
        "colab_type": "text"
      },
      "source": [
        "<a href=\"https://colab.research.google.com/github/Sirfowahid/Artificial-Neural-Network/blob/master/ANN_Overfitting_Regression.ipynb\" target=\"_parent\"><img src=\"https://colab.research.google.com/assets/colab-badge.svg\" alt=\"Open In Colab\"/></a>"
      ]
    },
    {
      "cell_type": "code",
      "execution_count": 1,
      "metadata": {
        "id": "kYYJ1oUKofRH"
      },
      "outputs": [],
      "source": [
        "# import libraries\n",
        "import torch\n",
        "import torch.nn as nn\n",
        "import numpy as np\n",
        "import matplotlib.pyplot as plt"
      ]
    },
    {
      "cell_type": "code",
      "source": [
        "N = 100\n",
        "x = torch.randn(N,1)\n",
        "y = x + torch.randn(N,1)\n",
        "\n",
        "# and plot\n",
        "plt.plot(x,y,'s')\n",
        "plt.show()"
      ],
      "metadata": {
        "colab": {
          "base_uri": "https://localhost:8080/",
          "height": 265
        },
        "id": "x0XaisB5opMS",
        "outputId": "fa5d2c06-3cca-4f48-9291-a35f5dff4f9a"
      },
      "execution_count": 2,
      "outputs": [
        {
          "output_type": "display_data",
          "data": {
            "text/plain": [
              "<Figure size 432x288 with 1 Axes>"
            ],
            "image/png": "[encoded data removed]"
          },
          "metadata": {
            "needs_background": "light"
          }
        }
      ]
    },
    {
      "cell_type": "code",
      "source": [
        "# build model\n",
        "ANNreg = nn.Sequential(\n",
        "    nn.Linear(1,1),  # input layer\n",
        "    nn.ReLU(),       # activation function\n",
        "    nn.Linear(1,1)   # output layer\n",
        "    )"
      ],
      "metadata": {
        "id": "ciiGinaboxwc"
      },
      "execution_count": 3,
      "outputs": []
    },
    {
      "cell_type": "code",
      "source": [
        "# model meta-parameters\n",
        "\n",
        "learningRate = .05\n",
        "\n",
        "# loss function\n",
        "lossfun = nn.MSELoss()\n",
        "\n",
        "# optimizer\n",
        "optimizer = torch.optim.SGD(ANNreg.parameters(),lr=learningRate)"
      ],
      "metadata": {
        "id": "meoFlFKZpZx0"
      },
      "execution_count": 4,
      "outputs": []
    },
    {
      "cell_type": "code",
      "source": [
        "# select training data (note the hard-coded N!)\n",
        "trainidx  = np.random.choice(range(N),80,replace=False) # random indices\n",
        "trainBool = np.zeros(N,dtype=bool) # initialize vector of Falses'\n",
        "trainBool[trainidx] = True # set selected samples to True\n",
        "\n",
        "# show the sizes\n",
        "print(x[trainBool].shape)\n",
        "print(x[~trainBool].shape)"
      ],
      "metadata": {
        "colab": {
          "base_uri": "https://localhost:8080/"
        },
        "id": "csDhvQRwpcVB",
        "outputId": "7b1de27b-ac03-4d02-f5b5-54ebfa13c501"
      },
      "execution_count": 5,
      "outputs": [
        {
          "output_type": "stream",
          "name": "stdout",
          "text": [
            "torch.Size([80, 1])\n",
            "torch.Size([20, 1])\n"
          ]
        }
      ]
    },
    {
      "cell_type": "code",
      "source": [
        "numepochs = 500\n",
        "for epochi in range(numepochs):\n",
        "\n",
        "  # forward pass\n",
        "  yHat = ANNreg(x[trainBool])\n",
        "\n",
        "  # compute loss\n",
        "  loss = lossfun(yHat,y[trainBool])\n",
        "\n",
        "  # backprop\n",
        "  optimizer.zero_grad()\n",
        "  loss.backward()\n",
        "  optimizer.step()"
      ],
      "metadata": {
        "id": "XD7RKwcdpmXd"
      },
      "execution_count": 6,
      "outputs": []
    },
    {
      "cell_type": "code",
      "source": [
        "# report the losses\n",
        "\n",
        "# compute losses of the TEST set\n",
        "predYtest = ANNreg(x[~trainBool])\n",
        "testloss = (predYtest-y[~trainBool]).pow(2).mean()\n",
        "\n",
        "# print out final TRAIN loss and TEST loss\n",
        "print(f'Final TRAIN loss: {loss.detach():.2f}')\n",
        "print(f'Final TEST loss: {testloss.detach():.2f}')"
      ],
      "metadata": {
        "colab": {
          "base_uri": "https://localhost:8080/"
        },
        "id": "kcRTfe7kppKz",
        "outputId": "530e8006-1e23-45cd-acb3-154c97571732"
      },
      "execution_count": 7,
      "outputs": [
        {
          "output_type": "stream",
          "name": "stdout",
          "text": [
            "Final TRAIN loss: 1.01\n",
            "Final TEST loss: 2.01\n"
          ]
        }
      ]
    },
    {
      "cell_type": "code",
      "source": [
        "### plot the data\n",
        "\n",
        "# predictions for final training run\n",
        "predYtrain = ANNreg(x[trainBool]).detach().numpy()\n",
        "\n",
        "# now plot\n",
        "plt.plot(x,y,'k^',label='All data')\n",
        "plt.plot(x[trainBool], predYtrain,\n",
        "         'bs',markerfacecolor='w',label='Training pred.')\n",
        "plt.plot(x[~trainBool],predYtest.detach(),\n",
        "         'ro',markerfacecolor='w',label='Test pred.')\n",
        "plt.legend()\n",
        "plt.show()"
      ],
      "metadata": {
        "colab": {
          "base_uri": "https://localhost:8080/",
          "height": 265
        },
        "id": "HGxi5coIpw_a",
        "outputId": "c5fb2b74-0c91-417a-b722-8f35c46fedd1"
      },
      "execution_count": 8,
      "outputs": [
        {
          "output_type": "display_data",
          "data": {
            "text/plain": [
              "<Figure size 432x288 with 1 Axes>"
            ],
            "image/png": "[encoded data removed]"
          },
          "metadata": {
            "needs_background": "light"
          }
        }
      ]
    },
    {
      "cell_type": "code",
      "source": [],
      "metadata": {
        "id": "fRM6A4Z2pz5o"
      },
      "execution_count": null,
      "outputs": []
    }
  ]
}